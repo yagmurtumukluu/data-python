{
  "nbformat": 4,
  "nbformat_minor": 0,
  "metadata": {
    "colab": {
      "name": "CHAPTER2.ipynb",
      "provenance": [],
      "authorship_tag": "ABX9TyPAyKoQMa7TE4sYD2rMizdJ",
      "include_colab_link": true
    },
    "kernelspec": {
      "name": "python3",
      "display_name": "Python 3"
    },
    "language_info": {
      "name": "python"
    },
    "accelerator": "GPU"
  },
  "cells": [
    {
      "cell_type": "markdown",
      "metadata": {
        "id": "view-in-github",
        "colab_type": "text"
      },
      "source": [
        "<a href=\"https://colab.research.google.com/github/yagmurtumukluu/data-python/blob/main/CHAPTER2.ipynb\" target=\"_parent\"><img src=\"https://colab.research.google.com/assets/colab-badge.svg\" alt=\"Open In Colab\"/></a>"
      ]
    },
    {
      "cell_type": "code",
      "metadata": {
        "id": "71CKUpAt_EGn"
      },
      "source": [
        "import numpy as np\n",
        "import pandas as pd"
      ],
      "execution_count": 53,
      "outputs": []
    },
    {
      "cell_type": "markdown",
      "metadata": {
        "id": "IlYuBOayDdmJ"
      },
      "source": [
        "Tab completion:"
      ]
    },
    {
      "cell_type": "code",
      "metadata": {
        "id": "iBaiGQsKDclu",
        "colab": {
          "base_uri": "https://localhost:8080/",
          "height": 129
        },
        "outputId": "31c0c174-ce66-4b71-9d2a-3fa345b23414"
      },
      "source": [
        "an_apple=285\n",
        "an_example=60\n",
        "\n",
        "an< >\n"
      ],
      "execution_count": 4,
      "outputs": [
        {
          "output_type": "error",
          "ename": "SyntaxError",
          "evalue": "ignored",
          "traceback": [
            "\u001b[0;36m  File \u001b[0;32m\"<ipython-input-4-f08e9a40a7ee>\"\u001b[0;36m, line \u001b[0;32m4\u001b[0m\n\u001b[0;31m    an< >\u001b[0m\n\u001b[0m        ^\u001b[0m\n\u001b[0;31mSyntaxError\u001b[0m\u001b[0;31m:\u001b[0m invalid syntax\n"
          ]
        }
      ]
    },
    {
      "cell_type": "code",
      "metadata": {
        "id": "mu65d8OMEClL",
        "colab": {
          "base_uri": "https://localhost:8080/",
          "height": 129
        },
        "outputId": "e5174e8c-93f8-411f-fa98-f18bb5837383"
      },
      "source": [
        "b = [1, 2, 3]\n",
        "\n",
        "b.< >"
      ],
      "execution_count": 5,
      "outputs": [
        {
          "output_type": "error",
          "ename": "SyntaxError",
          "evalue": "ignored",
          "traceback": [
            "\u001b[0;36m  File \u001b[0;32m\"<ipython-input-5-7bd03f084648>\"\u001b[0;36m, line \u001b[0;32m3\u001b[0m\n\u001b[0;31m    b.< >\u001b[0m\n\u001b[0m      ^\u001b[0m\n\u001b[0;31mSyntaxError\u001b[0m\u001b[0;31m:\u001b[0m invalid syntax\n"
          ]
        }
      ]
    },
    {
      "cell_type": "code",
      "metadata": {
        "id": "aN54yMxlE3oe",
        "colab": {
          "base_uri": "https://localhost:8080/",
          "height": 129
        },
        "outputId": "19b6703d-3694-4f0d-e0bd-988eb8055624"
      },
      "source": [
        "#datetime\n",
        "import datetime\n",
        "datetime.<  >"
      ],
      "execution_count": 6,
      "outputs": [
        {
          "output_type": "error",
          "ename": "SyntaxError",
          "evalue": "ignored",
          "traceback": [
            "\u001b[0;36m  File \u001b[0;32m\"<ipython-input-6-2c9d30b34410>\"\u001b[0;36m, line \u001b[0;32m3\u001b[0m\n\u001b[0;31m    datetime.<  >\u001b[0m\n\u001b[0m             ^\u001b[0m\n\u001b[0;31mSyntaxError\u001b[0m\u001b[0;31m:\u001b[0m invalid syntax\n"
          ]
        }
      ]
    },
    {
      "cell_type": "code",
      "metadata": {
        "id": "GICLw9wBAe1O"
      },
      "source": [
        "from numpy.random import randn\n",
        "\n",
        "data = {i : randn(2,1) for i in range (8) }\n",
        "\n",
        "data"
      ],
      "execution_count": null,
      "outputs": []
    },
    {
      "cell_type": "markdown",
      "metadata": {
        "id": "7Z6_WXYEIOGv"
      },
      "source": [
        "introspection:"
      ]
    },
    {
      "cell_type": "code",
      "metadata": {
        "id": "NDzyw5ceIGHt"
      },
      "source": [
        "#question mark: display some general information about the object\n",
        "\n",
        "b=[1, 2, 3]\n",
        "b?\n"
      ],
      "execution_count": 7,
      "outputs": []
    },
    {
      "cell_type": "code",
      "metadata": {
        "id": "KtmPUw_sIiep"
      },
      "source": [
        "print?"
      ],
      "execution_count": 8,
      "outputs": []
    },
    {
      "cell_type": "markdown",
      "metadata": {
        "id": "WJ1oKCH5ZhDi"
      },
      "source": [
        "DEF/RETURN:"
      ]
    },
    {
      "cell_type": "code",
      "metadata": {
        "id": "S5xWaUN3ZKs4"
      },
      "source": [
        "def f(x, y, z):\n",
        "    return (x + y) / z\n",
        "\n",
        "a = 5\n",
        "b = 6\n",
        "c = 7.5\n",
        "\n",
        "result = f(a, b, c)"
      ],
      "execution_count": 9,
      "outputs": []
    },
    {
      "cell_type": "code",
      "metadata": {
        "id": "hUUQq5_WciWI"
      },
      "source": [
        "a = np.random.randn(100,100)\n"
      ],
      "execution_count": 10,
      "outputs": []
    },
    {
      "cell_type": "markdown",
      "metadata": {
        "id": "G-mNnqQW40F5"
      },
      "source": [
        "MATPLOTLIB KULLANIMI:"
      ]
    },
    {
      "cell_type": "code",
      "metadata": {
        "colab": {
          "base_uri": "https://localhost:8080/",
          "height": 283
        },
        "id": "0pBk8HGD4XbV",
        "outputId": "cd256187-a15a-48af-d33e-8fbdcc20cf2c"
      },
      "source": [
        "import matplotlib.pyplot as plt\n",
        "plt.plot(np.random.randn(50).cumsum())"
      ],
      "execution_count": 11,
      "outputs": [
        {
          "output_type": "execute_result",
          "data": {
            "text/plain": [
              "[<matplotlib.lines.Line2D at 0x7f40e7bd2f10>]"
            ]
          },
          "metadata": {
            "tags": []
          },
          "execution_count": 11
        },
        {
          "output_type": "display_data",
          "data": {
            "image/png": "[encoded data removed]",
            "text/plain": [
              "<Figure size 432x288 with 1 Axes>"
            ]
          },
          "metadata": {
            "tags": [],
            "needs_background": "light"
          }
        }
      ]
    },
    {
      "cell_type": "code",
      "metadata": {
        "id": "qMF7Yk545BpM"
      },
      "source": [
        "#eksen ve basliklari:\n",
        "plt.xlabel()\n",
        "plt.ylabel()\n",
        "plt.title()\n",
        "plt.show() #çizdir-göster"
      ],
      "execution_count": null,
      "outputs": []
    },
    {
      "cell_type": "code",
      "metadata": {
        "id": "P850PvNj5y-X"
      },
      "source": [
        "#örnek (data gir)\n",
        "plot.figure(figsize(10,16))\n",
        "plt.plot(data)\n",
        "plt.show()\n",
        "plt.figure(figsize=(12,6))\n",
        "\n",
        "plt.plot(data.Tarih,data.enflasyon)  \n",
        "plt.title(\"BASLIGI YAZ\")\n",
        "plt.show()"
      ],
      "execution_count": null,
      "outputs": []
    },
    {
      "cell_type": "code",
      "metadata": {
        "id": "coDjpmso_bQO"
      },
      "source": [
        "#function calls\n",
        "result = f(x, y, z)\n",
        "g()\n"
      ],
      "execution_count": null,
      "outputs": []
    },
    {
      "cell_type": "code",
      "metadata": {
        "colab": {
          "base_uri": "https://localhost:8080/"
        },
        "id": "NKznZifKAqIh",
        "outputId": "bee8e3f6-6805-4c77-86e4-419e6963d8dc"
      },
      "source": [
        "#.append \n",
        "a=[1, 2, 3]\n",
        "b=a\n",
        "a.append(4)\n",
        "b\n"
      ],
      "execution_count": 14,
      "outputs": [
        {
          "output_type": "execute_result",
          "data": {
            "text/plain": [
              "[1, 2, 3, 4]"
            ]
          },
          "metadata": {
            "tags": []
          },
          "execution_count": 14
        }
      ]
    },
    {
      "cell_type": "code",
      "metadata": {
        "colab": {
          "base_uri": "https://localhost:8080/"
        },
        "id": "1Ckugw5UDc0j",
        "outputId": "d1ba84db-69c6-46ea-809d-d40c4ae0d254"
      },
      "source": [
        " def append_element(some_list, element):\n",
        "    some_list.append(element)\n",
        " \n",
        " data = [1, 2, 3]\n",
        " append_element(data, 4)\n",
        " data"
      ],
      "execution_count": 15,
      "outputs": [
        {
          "output_type": "execute_result",
          "data": {
            "text/plain": [
              "[1, 2, 3, 4]"
            ]
          },
          "metadata": {
            "tags": []
          },
          "execution_count": 15
        }
      ]
    },
    {
      "cell_type": "code",
      "metadata": {
        "colab": {
          "base_uri": "https://localhost:8080/"
        },
        "id": "O3cK_aICCQmU",
        "outputId": "a1676efe-9fc1-41ec-843c-fa0db34cf77b"
      },
      "source": [
        "a= 5\n",
        "type(a)\n",
        "\n",
        "a='fooo'\n",
        "type(a)\n"
      ],
      "execution_count": 16,
      "outputs": [
        {
          "output_type": "execute_result",
          "data": {
            "text/plain": [
              "str"
            ]
          },
          "metadata": {
            "tags": []
          },
          "execution_count": 16
        }
      ]
    },
    {
      "cell_type": "markdown",
      "metadata": {
        "id": "6Uv8FQduLgtp"
      },
      "source": [
        "isinstance komutu: girilen nesnenin türünü kontrol edebilirsin.\n",
        "\n"
      ]
    },
    {
      "cell_type": "code",
      "metadata": {
        "colab": {
          "base_uri": "https://localhost:8080/"
        },
        "id": "MG2WQgSDMpZ-",
        "outputId": "f547db80-c47a-4935-a28a-880fd9597d8c"
      },
      "source": [
        "a = 5\n",
        "isinstance (a, str)"
      ],
      "execution_count": 18,
      "outputs": [
        {
          "output_type": "execute_result",
          "data": {
            "text/plain": [
              "False"
            ]
          },
          "metadata": {
            "tags": []
          },
          "execution_count": 18
        }
      ]
    },
    {
      "cell_type": "markdown",
      "metadata": {
        "id": "7jcWx6ZSMyqD"
      },
      "source": [
        "isinstance can accept a tuple of types if you want to check that an object’s type is among those present in the tuple:"
      ]
    },
    {
      "cell_type": "code",
      "metadata": {
        "colab": {
          "base_uri": "https://localhost:8080/"
        },
        "id": "kWq7e-uoM1aA",
        "outputId": "df30ec0d-84fb-468f-f154-1eb5cf23a648"
      },
      "source": [
        "a =5\n",
        "b=8.5\n",
        "\n",
        "isinstance(a, (int,int))\n",
        "isinstance(b, (int, float))"
      ],
      "execution_count": 19,
      "outputs": [
        {
          "output_type": "execute_result",
          "data": {
            "text/plain": [
              "True"
            ]
          },
          "metadata": {
            "tags": []
          },
          "execution_count": 19
        }
      ]
    },
    {
      "cell_type": "markdown",
      "metadata": {
        "id": "FElHz2yrNmQM"
      },
      "source": [
        "DUCK TYPING:"
      ]
    },
    {
      "cell_type": "code",
      "metadata": {
        "id": "3_9E1lmXNK9O"
      },
      "source": [
        "def isiterable(obj):\n",
        "    try:\n",
        "        iter(obj)\n",
        "        return True\n",
        "    except TypeError:\n",
        "      return False"
      ],
      "execution_count": 20,
      "outputs": []
    },
    {
      "cell_type": "markdown",
      "metadata": {
        "id": "3Mvsice6aS6A"
      },
      "source": [
        "Binary operations & comparisons:"
      ]
    },
    {
      "cell_type": "code",
      "metadata": {
        "id": "AfUKqRMNasxZ"
      },
      "source": [
        "#a+b\n",
        "#a-b\n",
        "#a*b\n",
        "#a/b\n",
        "#a//b floor-divide\n",
        "#a**b raise a to the b power\n",
        "#a&b AND\n",
        "#a | b  OR\n",
        "#a == b\n",
        "#a != b  True if a is not equal to b\n",
        "#a <= b, a < b"
      ],
      "execution_count": 21,
      "outputs": []
    },
    {
      "cell_type": "code",
      "metadata": {
        "colab": {
          "base_uri": "https://localhost:8080/"
        },
        "id": "OJnzOGFTYjsZ",
        "outputId": "3bf2b54b-60e4-48bb-d68b-768b8df82094"
      },
      "source": [
        "a = [1, 2, 3]\n",
        "b = a\n",
        "\n",
        "\n",
        "c = list(a)\n",
        "\n",
        "a is b"
      ],
      "execution_count": 22,
      "outputs": [
        {
          "output_type": "execute_result",
          "data": {
            "text/plain": [
              "True"
            ]
          },
          "metadata": {
            "tags": []
          },
          "execution_count": 22
        }
      ]
    },
    {
      "cell_type": "code",
      "metadata": {
        "colab": {
          "base_uri": "https://localhost:8080/"
        },
        "id": "UOSsOxR8abVV",
        "outputId": "7a318fb6-c86a-489a-8d84-9fa4216052c3"
      },
      "source": [
        "a ==c"
      ],
      "execution_count": 23,
      "outputs": [
        {
          "output_type": "execute_result",
          "data": {
            "text/plain": [
              "True"
            ]
          },
          "metadata": {
            "tags": []
          },
          "execution_count": 23
        }
      ]
    },
    {
      "cell_type": "code",
      "metadata": {
        "colab": {
          "base_uri": "https://localhost:8080/",
          "height": 35
        },
        "id": "-iFTZXoisOfp",
        "outputId": "d0b51a51-7ff7-4f05-af52-36b66df3fcf7"
      },
      "source": [
        "val= \"ahah\"\n",
        "\n",
        "val\n"
      ],
      "execution_count": 26,
      "outputs": [
        {
          "output_type": "execute_result",
          "data": {
            "application/vnd.google.colaboratory.intrinsic+json": {
              "type": "string"
            },
            "text/plain": [
              "'ahah'"
            ]
          },
          "metadata": {
            "tags": []
          },
          "execution_count": 26
        }
      ]
    },
    {
      "cell_type": "code",
      "metadata": {
        "colab": {
          "base_uri": "https://localhost:8080/"
        },
        "id": "AqEwMlc0jXnL",
        "outputId": "026d6a8d-84cf-48c1-d417-c1c26d6e68ae"
      },
      "source": [
        "sayi = 17239871\n",
        "sayi ** 6"
      ],
      "execution_count": 28,
      "outputs": [
        {
          "output_type": "execute_result",
          "data": {
            "text/plain": [
              "26254519291092456596965462913230729701102721"
            ]
          },
          "metadata": {
            "tags": []
          },
          "execution_count": 28
        }
      ]
    },
    {
      "cell_type": "markdown",
      "metadata": {
        "id": "vNQGKZlHgaAX"
      },
      "source": [
        "objects:\n"
      ]
    },
    {
      "cell_type": "code",
      "metadata": {
        "colab": {
          "base_uri": "https://localhost:8080/"
        },
        "id": "-px6jd3-cLuQ",
        "outputId": "8ec3b978-f1df-4db8-e87e-baaea727d947"
      },
      "source": [
        "a_list = ['ahhaha', 2, [4, 5]]\n",
        "a_list[2]=(9,8)\n",
        "\n",
        "a_list"
      ],
      "execution_count": 24,
      "outputs": [
        {
          "output_type": "execute_result",
          "data": {
            "text/plain": [
              "['ahhaha', 2, (9, 8)]"
            ]
          },
          "metadata": {
            "tags": []
          },
          "execution_count": 24
        }
      ]
    },
    {
      "cell_type": "code",
      "metadata": {
        "colab": {
          "base_uri": "https://localhost:8080/"
        },
        "id": "zPsItyNWgdGL",
        "outputId": "544eac7f-46ea-4325-ee02-bb7219eb4d44"
      },
      "source": [
        "#kaç tane \\n olduğu\n",
        "c = \"\"\"dfdsf\n",
        "sdfsdff\n",
        "sdfdfg\"\"\"\n",
        "c.count('\\n')"
      ],
      "execution_count": 33,
      "outputs": [
        {
          "output_type": "execute_result",
          "data": {
            "text/plain": [
              "2"
            ]
          },
          "metadata": {
            "tags": []
          },
          "execution_count": 33
        }
      ]
    },
    {
      "cell_type": "code",
      "metadata": {
        "colab": {
          "base_uri": "https://localhost:8080/"
        },
        "id": "OX60hVCmnEDB",
        "outputId": "4f1c910e-2f9a-4463-8f30-95f38e2402ef"
      },
      "source": [
        "a= 5.6\n",
        "\n",
        "s=str(a)\n",
        "print(s)"
      ],
      "execution_count": 25,
      "outputs": [
        {
          "output_type": "stream",
          "text": [
            "5.6\n"
          ],
          "name": "stdout"
        }
      ]
    },
    {
      "cell_type": "code",
      "metadata": {
        "colab": {
          "base_uri": "https://localhost:8080/"
        },
        "id": "hIoHWU04kE2M",
        "outputId": "17c36497-ffe6-4cba-fcee-1d86a19dcd46"
      },
      "source": [
        "y = \"yagmur\"\n",
        "list(y)"
      ],
      "execution_count": 32,
      "outputs": [
        {
          "output_type": "execute_result",
          "data": {
            "text/plain": [
              "['y', 'a', 'g', 'm', 'u', 'r']"
            ]
          },
          "metadata": {
            "tags": []
          },
          "execution_count": 32
        }
      ]
    },
    {
      "cell_type": "code",
      "metadata": {
        "colab": {
          "base_uri": "https://localhost:8080/"
        },
        "id": "31hEGsVSkZOP",
        "outputId": "57e44e03-c9c8-4f7c-a21b-290ebe0a3f64"
      },
      "source": [
        "s = \"12\\\\34\"\n",
        "print(s)"
      ],
      "execution_count": 35,
      "outputs": [
        {
          "output_type": "stream",
          "text": [
            "12\\34\n"
          ],
          "name": "stdout"
        }
      ]
    },
    {
      "cell_type": "code",
      "metadata": {
        "colab": {
          "base_uri": "https://localhost:8080/",
          "height": 35
        },
        "id": "uVKWlH_ElqP_",
        "outputId": "74073306-c4e0-4952-c378-a39027f4a8bb"
      },
      "source": [
        "a = 'this is the first half '\n",
        "b = 'and this is the second half'\n",
        "\n",
        "a+b"
      ],
      "execution_count": 36,
      "outputs": [
        {
          "output_type": "execute_result",
          "data": {
            "application/vnd.google.colaboratory.intrinsic+json": {
              "type": "string"
            },
            "text/plain": [
              "'this is the first half and this is the second half'"
            ]
          },
          "metadata": {
            "tags": []
          },
          "execution_count": 36
        }
      ]
    },
    {
      "cell_type": "markdown",
      "metadata": {
        "id": "g5b60bgTmsk5"
      },
      "source": [
        "TYPE CASTING:"
      ]
    },
    {
      "cell_type": "code",
      "metadata": {
        "colab": {
          "base_uri": "https://localhost:8080/"
        },
        "id": "FGI6JbeGlvTK",
        "outputId": "e6ab5b0c-49c6-43c3-e516-128169145323"
      },
      "source": [
        "s = \" 4.8943 \"\n",
        "\n",
        "fval = float(s)\n",
        "type(fval)"
      ],
      "execution_count": 37,
      "outputs": [
        {
          "output_type": "execute_result",
          "data": {
            "text/plain": [
              "float"
            ]
          },
          "metadata": {
            "tags": []
          },
          "execution_count": 37
        }
      ]
    },
    {
      "cell_type": "code",
      "metadata": {
        "colab": {
          "base_uri": "https://localhost:8080/"
        },
        "id": "YTzIgmdPnEpg",
        "outputId": "edbb23b6-1fad-4d47-dbdf-0e977c803b6a"
      },
      "source": [
        "int(fval)"
      ],
      "execution_count": 38,
      "outputs": [
        {
          "output_type": "execute_result",
          "data": {
            "text/plain": [
              "4"
            ]
          },
          "metadata": {
            "tags": []
          },
          "execution_count": 38
        }
      ]
    },
    {
      "cell_type": "code",
      "metadata": {
        "colab": {
          "base_uri": "https://localhost:8080/"
        },
        "id": "RCKLObaGnG7t",
        "outputId": "c0d0831b-0630-4764-91bd-655bd2fd6f26"
      },
      "source": [
        "bool(fval)"
      ],
      "execution_count": 39,
      "outputs": [
        {
          "output_type": "execute_result",
          "data": {
            "text/plain": [
              "True"
            ]
          },
          "metadata": {
            "tags": []
          },
          "execution_count": 39
        }
      ]
    },
    {
      "cell_type": "markdown",
      "metadata": {
        "id": "-tWk-NnHnVUJ"
      },
      "source": [
        "DATE & TIME:"
      ]
    },
    {
      "cell_type": "code",
      "metadata": {
        "colab": {
          "base_uri": "https://localhost:8080/",
          "height": 214
        },
        "id": "L8PEL89CnKOQ",
        "outputId": "14273f57-923c-4fd5-baed-3d079319d6d6"
      },
      "source": [
        "import datetime \n",
        "\n",
        "from datetime import date, time\n",
        "\n",
        "dt = datetime(2021,8, 5, 21, 41)\n",
        "dt.day"
      ],
      "execution_count": 44,
      "outputs": [
        {
          "output_type": "error",
          "ename": "TypeError",
          "evalue": "ignored",
          "traceback": [
            "\u001b[0;31m---------------------------------------------------------------------------\u001b[0m",
            "\u001b[0;31mTypeError\u001b[0m                                 Traceback (most recent call last)",
            "\u001b[0;32m<ipython-input-44-3aaf039161f2>\u001b[0m in \u001b[0;36m<module>\u001b[0;34m()\u001b[0m\n\u001b[1;32m      3\u001b[0m \u001b[0;32mfrom\u001b[0m \u001b[0mdatetime\u001b[0m \u001b[0;32mimport\u001b[0m \u001b[0mdate\u001b[0m\u001b[0;34m,\u001b[0m \u001b[0mtime\u001b[0m\u001b[0;34m\u001b[0m\u001b[0;34m\u001b[0m\u001b[0m\n\u001b[1;32m      4\u001b[0m \u001b[0;34m\u001b[0m\u001b[0m\n\u001b[0;32m----> 5\u001b[0;31m \u001b[0mdt\u001b[0m \u001b[0;34m=\u001b[0m \u001b[0mdatetime\u001b[0m\u001b[0;34m(\u001b[0m\u001b[0;36m2021\u001b[0m\u001b[0;34m,\u001b[0m\u001b[0;36m8\u001b[0m\u001b[0;34m,\u001b[0m \u001b[0;36m5\u001b[0m\u001b[0;34m,\u001b[0m \u001b[0;36m21\u001b[0m\u001b[0;34m,\u001b[0m \u001b[0;36m41\u001b[0m\u001b[0;34m)\u001b[0m\u001b[0;34m\u001b[0m\u001b[0;34m\u001b[0m\u001b[0m\n\u001b[0m\u001b[1;32m      6\u001b[0m \u001b[0mdt\u001b[0m\u001b[0;34m.\u001b[0m\u001b[0mday\u001b[0m\u001b[0;34m\u001b[0m\u001b[0;34m\u001b[0m\u001b[0m\n",
            "\u001b[0;31mTypeError\u001b[0m: 'module' object is not callable"
          ]
        }
      ]
    },
    {
      "cell_type": "code",
      "metadata": {
        "colab": {
          "base_uri": "https://localhost:8080/",
          "height": 197
        },
        "id": "h6LBcxkRoKvj",
        "outputId": "dad7d95a-3f05-429f-ac76-9d30d524dc3b"
      },
      "source": [
        "#strftime method:\n",
        "\n",
        "dt.strftime('%m/%d/%Y %H:%M')"
      ],
      "execution_count": 45,
      "outputs": [
        {
          "output_type": "error",
          "ename": "AttributeError",
          "evalue": "ignored",
          "traceback": [
            "\u001b[0;31m---------------------------------------------------------------------------\u001b[0m",
            "\u001b[0;31mAttributeError\u001b[0m                            Traceback (most recent call last)",
            "\u001b[0;32m<ipython-input-45-c1174ab82df1>\u001b[0m in \u001b[0;36m<module>\u001b[0;34m()\u001b[0m\n\u001b[1;32m      1\u001b[0m \u001b[0;31m#strftime method:\u001b[0m\u001b[0;34m\u001b[0m\u001b[0;34m\u001b[0m\u001b[0;34m\u001b[0m\u001b[0m\n\u001b[1;32m      2\u001b[0m \u001b[0;34m\u001b[0m\u001b[0m\n\u001b[0;32m----> 3\u001b[0;31m \u001b[0mdt\u001b[0m\u001b[0;34m.\u001b[0m\u001b[0mstrftime\u001b[0m\u001b[0;34m(\u001b[0m\u001b[0;34m'%m/%d/%Y %H:%M'\u001b[0m\u001b[0;34m)\u001b[0m\u001b[0;34m\u001b[0m\u001b[0;34m\u001b[0m\u001b[0m\n\u001b[0m",
            "\u001b[0;31mAttributeError\u001b[0m: module 'datetime' has no attribute 'strftime'"
          ]
        }
      ]
    },
    {
      "cell_type": "markdown",
      "metadata": {
        "id": "zkUC2vmEoetN"
      },
      "source": [
        "# CONTROL FLOW:"
      ]
    },
    {
      "cell_type": "markdown",
      "metadata": {
        "id": "G56esHLFynNl"
      },
      "source": [
        "IF:"
      ]
    },
    {
      "cell_type": "code",
      "metadata": {
        "colab": {
          "base_uri": "https://localhost:8080/"
        },
        "id": "JLliZXzUs4Yg",
        "outputId": "2341e2ee-94da-4e1d-8c53-07a04523be8a"
      },
      "source": [
        "if 1 > 3 :\n",
        "  print(\"beş büyüktür üç\")\n",
        "else:\n",
        "  print(\"yanlıs\")"
      ],
      "execution_count": 68,
      "outputs": [
        {
          "output_type": "stream",
          "text": [
            "yanlıs\n"
          ],
          "name": "stdout"
        }
      ]
    },
    {
      "cell_type": "code",
      "metadata": {
        "id": "mzuy58n7uLns"
      },
      "source": [
        "a = 8\n",
        "b = 9\n",
        "c = 6\n",
        "d = 10\n",
        "\n",
        "if a<b & d>c:\n",
        "  print(\"TRUE\")"
      ],
      "execution_count": 71,
      "outputs": []
    },
    {
      "cell_type": "markdown",
      "metadata": {
        "id": "Vi4tl2U8yo9o"
      },
      "source": [
        "FOR:"
      ]
    },
    {
      "cell_type": "code",
      "metadata": {
        "id": "Ukut0Ac0vQUz"
      },
      "source": [
        "list = [1, 2, None, 4, None, 5]\n",
        "total = 0\n",
        "\n",
        "for i in list:\n",
        "\n",
        "  if i is None:\n",
        "    continue\n",
        "  total += i"
      ],
      "execution_count": 73,
      "outputs": []
    },
    {
      "cell_type": "code",
      "metadata": {
        "id": "iTlwiYDpzXzt"
      },
      "source": [
        "#break: sadece for içini sonlandırır"
      ],
      "execution_count": null,
      "outputs": []
    },
    {
      "cell_type": "code",
      "metadata": {
        "id": "Dy7ma03yzeEq"
      },
      "source": [
        "for i in range(0,10,2):\n",
        "  for j in range (10):\n",
        "    if j>i:\n",
        "      break\n",
        "    print((i,j))"
      ],
      "execution_count": null,
      "outputs": []
    },
    {
      "cell_type": "markdown",
      "metadata": {
        "id": "DJUdLq7e0iEU"
      },
      "source": [
        "WHILE:"
      ]
    },
    {
      "cell_type": "code",
      "metadata": {
        "id": "BrNLrtQ70d-r"
      },
      "source": [
        "x = 256\n",
        "total = 0\n",
        "while x > 0:\n",
        "  if total > 500:\n",
        "    break\n",
        "  total +=x\n",
        "  x = x// 2"
      ],
      "execution_count": 81,
      "outputs": []
    },
    {
      "cell_type": "markdown",
      "metadata": {
        "id": "6CtqBguq05J_"
      },
      "source": [
        "RANGE"
      ]
    },
    {
      "cell_type": "code",
      "metadata": {
        "colab": {
          "base_uri": "https://localhost:8080/"
        },
        "id": "7OjPDLtS06HR",
        "outputId": "1135c0d0-4f7f-4d9d-d110-51dcb9f0a630"
      },
      "source": [
        "for i in range(0,10,2):\n",
        "  print(i)"
      ],
      "execution_count": 91,
      "outputs": [
        {
          "output_type": "stream",
          "text": [
            "0\n",
            "2\n",
            "4\n",
            "6\n",
            "8\n"
          ],
          "name": "stdout"
        }
      ]
    },
    {
      "cell_type": "code",
      "metadata": {
        "id": "YX8o6LSq1qED"
      },
      "source": [
        "sum = 0\n",
        "\n",
        "for i in range (10,20,2):\n",
        "\n",
        "  sum +=i\n",
        "  "
      ],
      "execution_count": 93,
      "outputs": []
    },
    {
      "cell_type": "code",
      "metadata": {
        "id": "zOleEW002DDo"
      },
      "source": [
        "sum = 0\n",
        "for i in range(100000):\n",
        "  if i % 3 == 0 or i % 5 == 0:\n",
        "    sum += i\n"
      ],
      "execution_count": 94,
      "outputs": []
    },
    {
      "cell_type": "code",
      "metadata": {
        "id": "sxebcFt62KIL"
      },
      "source": [
        ""
      ],
      "execution_count": null,
      "outputs": []
    }
  ]
}